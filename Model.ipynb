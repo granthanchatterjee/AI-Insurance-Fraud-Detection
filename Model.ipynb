{
 "cells": [
  {
   "cell_type": "markdown",
   "id": "dba42949",
   "metadata": {},
   "source": [
    "# Medical Fraud Detection\n",
    "## 13038 instances"
   ]
  },
  {
   "cell_type": "code",
   "execution_count": 1,
   "id": "3a09786c",
   "metadata": {},
   "outputs": [],
   "source": [
    "import warnings\n",
    "warnings.filterwarnings('ignore')"
   ]
  },
  {
   "cell_type": "markdown",
   "id": "2ba4c6d3",
   "metadata": {},
   "source": [
    "## Data Loading and Cleaning"
   ]
  },
  {
   "cell_type": "code",
   "execution_count": 2,
   "id": "ee0fcafa",
   "metadata": {},
   "outputs": [],
   "source": [
    "import pandas as pd\n",
    "import numpy as np\n",
    "from sklearn.model_selection import train_test_split\n",
    "from sklearn.metrics import accuracy_score, confusion_matrix, classification_report\n",
    "from sklearn.preprocessing import MinMaxScaler"
   ]
  },
  {
   "cell_type": "code",
   "execution_count": 3,
   "id": "b9c0c724",
   "metadata": {},
   "outputs": [
    {
     "data": {
      "text/html": [
       "<div>\n",
       "<style scoped>\n",
       "    .dataframe tbody tr th:only-of-type {\n",
       "        vertical-align: middle;\n",
       "    }\n",
       "\n",
       "    .dataframe tbody tr th {\n",
       "        vertical-align: top;\n",
       "    }\n",
       "\n",
       "    .dataframe thead th {\n",
       "        text-align: right;\n",
       "    }\n",
       "</style>\n",
       "<table border=\"1\" class=\"dataframe\">\n",
       "  <thead>\n",
       "    <tr style=\"text-align: right;\">\n",
       "      <th></th>\n",
       "      <th>creditLimit</th>\n",
       "      <th>availableMoney</th>\n",
       "      <th>transactionDateTime</th>\n",
       "      <th>transactionAmount</th>\n",
       "      <th>merchantName</th>\n",
       "      <th>acqCountry</th>\n",
       "      <th>merchantCountryCode</th>\n",
       "      <th>posEntryMode</th>\n",
       "      <th>posConditionCode</th>\n",
       "      <th>merchantCategoryCode</th>\n",
       "      <th>...</th>\n",
       "      <th>accountOpenDate</th>\n",
       "      <th>dateOfLastAddressChange</th>\n",
       "      <th>cardCVV</th>\n",
       "      <th>enteredCVV</th>\n",
       "      <th>cardLast4Digits</th>\n",
       "      <th>transactionType</th>\n",
       "      <th>currentBalance</th>\n",
       "      <th>cardPresent</th>\n",
       "      <th>expirationDateKeyInMatch</th>\n",
       "      <th>Fraud</th>\n",
       "    </tr>\n",
       "  </thead>\n",
       "  <tbody>\n",
       "    <tr>\n",
       "      <th>0</th>\n",
       "      <td>5000</td>\n",
       "      <td>5000.0</td>\n",
       "      <td>13-08-2016 14:27</td>\n",
       "      <td>98.55</td>\n",
       "      <td>Uber</td>\n",
       "      <td>US</td>\n",
       "      <td>US</td>\n",
       "      <td>2.0</td>\n",
       "      <td>1.0</td>\n",
       "      <td>rideshare</td>\n",
       "      <td>...</td>\n",
       "      <td>14-03-2015</td>\n",
       "      <td>14-03-2015</td>\n",
       "      <td>414</td>\n",
       "      <td>414</td>\n",
       "      <td>1803</td>\n",
       "      <td>PURCHASE</td>\n",
       "      <td>0.0</td>\n",
       "      <td>0</td>\n",
       "      <td>0</td>\n",
       "      <td>0</td>\n",
       "    </tr>\n",
       "    <tr>\n",
       "      <th>1</th>\n",
       "      <td>5000</td>\n",
       "      <td>5000.0</td>\n",
       "      <td>11-10-2016 05:05</td>\n",
       "      <td>74.51</td>\n",
       "      <td>AMC #191138</td>\n",
       "      <td>US</td>\n",
       "      <td>US</td>\n",
       "      <td>9.0</td>\n",
       "      <td>1.0</td>\n",
       "      <td>entertainment</td>\n",
       "      <td>...</td>\n",
       "      <td>14-03-2015</td>\n",
       "      <td>14-03-2015</td>\n",
       "      <td>486</td>\n",
       "      <td>486</td>\n",
       "      <td>767</td>\n",
       "      <td>PURCHASE</td>\n",
       "      <td>0.0</td>\n",
       "      <td>1</td>\n",
       "      <td>0</td>\n",
       "      <td>0</td>\n",
       "    </tr>\n",
       "    <tr>\n",
       "      <th>2</th>\n",
       "      <td>5000</td>\n",
       "      <td>5000.0</td>\n",
       "      <td>08-11-2016 09:18</td>\n",
       "      <td>7.47</td>\n",
       "      <td>Play Store</td>\n",
       "      <td>US</td>\n",
       "      <td>US</td>\n",
       "      <td>9.0</td>\n",
       "      <td>1.0</td>\n",
       "      <td>mobileapps</td>\n",
       "      <td>...</td>\n",
       "      <td>14-03-2015</td>\n",
       "      <td>14-03-2015</td>\n",
       "      <td>486</td>\n",
       "      <td>486</td>\n",
       "      <td>767</td>\n",
       "      <td>PURCHASE</td>\n",
       "      <td>0.0</td>\n",
       "      <td>0</td>\n",
       "      <td>0</td>\n",
       "      <td>0</td>\n",
       "    </tr>\n",
       "    <tr>\n",
       "      <th>3</th>\n",
       "      <td>5000</td>\n",
       "      <td>5000.0</td>\n",
       "      <td>10-12-2016 02:14</td>\n",
       "      <td>7.47</td>\n",
       "      <td>Play Store</td>\n",
       "      <td>US</td>\n",
       "      <td>US</td>\n",
       "      <td>9.0</td>\n",
       "      <td>1.0</td>\n",
       "      <td>mobileapps</td>\n",
       "      <td>...</td>\n",
       "      <td>14-03-2015</td>\n",
       "      <td>14-03-2015</td>\n",
       "      <td>486</td>\n",
       "      <td>486</td>\n",
       "      <td>767</td>\n",
       "      <td>PURCHASE</td>\n",
       "      <td>0.0</td>\n",
       "      <td>0</td>\n",
       "      <td>0</td>\n",
       "      <td>0</td>\n",
       "    </tr>\n",
       "    <tr>\n",
       "      <th>4</th>\n",
       "      <td>5000</td>\n",
       "      <td>5000.0</td>\n",
       "      <td>24-03-2016 21:04</td>\n",
       "      <td>71.18</td>\n",
       "      <td>Tim Hortons #947751</td>\n",
       "      <td>US</td>\n",
       "      <td>US</td>\n",
       "      <td>2.0</td>\n",
       "      <td>1.0</td>\n",
       "      <td>fastfood</td>\n",
       "      <td>...</td>\n",
       "      <td>06-08-2015</td>\n",
       "      <td>06-08-2015</td>\n",
       "      <td>885</td>\n",
       "      <td>885</td>\n",
       "      <td>3143</td>\n",
       "      <td>PURCHASE</td>\n",
       "      <td>0.0</td>\n",
       "      <td>1</td>\n",
       "      <td>0</td>\n",
       "      <td>0</td>\n",
       "    </tr>\n",
       "  </tbody>\n",
       "</table>\n",
       "<p>5 rows × 21 columns</p>\n",
       "</div>"
      ],
      "text/plain": [
       "   creditLimit  availableMoney transactionDateTime  transactionAmount  \\\n",
       "0         5000          5000.0    13-08-2016 14:27              98.55   \n",
       "1         5000          5000.0    11-10-2016 05:05              74.51   \n",
       "2         5000          5000.0    08-11-2016 09:18               7.47   \n",
       "3         5000          5000.0    10-12-2016 02:14               7.47   \n",
       "4         5000          5000.0    24-03-2016 21:04              71.18   \n",
       "\n",
       "          merchantName acqCountry merchantCountryCode  posEntryMode  \\\n",
       "0                 Uber         US                  US           2.0   \n",
       "1          AMC #191138         US                  US           9.0   \n",
       "2           Play Store         US                  US           9.0   \n",
       "3           Play Store         US                  US           9.0   \n",
       "4  Tim Hortons #947751         US                  US           2.0   \n",
       "\n",
       "   posConditionCode merchantCategoryCode  ... accountOpenDate  \\\n",
       "0               1.0            rideshare  ...      14-03-2015   \n",
       "1               1.0        entertainment  ...      14-03-2015   \n",
       "2               1.0           mobileapps  ...      14-03-2015   \n",
       "3               1.0           mobileapps  ...      14-03-2015   \n",
       "4               1.0             fastfood  ...      06-08-2015   \n",
       "\n",
       "  dateOfLastAddressChange cardCVV  enteredCVV  cardLast4Digits  \\\n",
       "0              14-03-2015     414         414             1803   \n",
       "1              14-03-2015     486         486              767   \n",
       "2              14-03-2015     486         486              767   \n",
       "3              14-03-2015     486         486              767   \n",
       "4              06-08-2015     885         885             3143   \n",
       "\n",
       "   transactionType currentBalance  cardPresent  expirationDateKeyInMatch  \\\n",
       "0         PURCHASE            0.0            0                         0   \n",
       "1         PURCHASE            0.0            1                         0   \n",
       "2         PURCHASE            0.0            0                         0   \n",
       "3         PURCHASE            0.0            0                         0   \n",
       "4         PURCHASE            0.0            1                         0   \n",
       "\n",
       "   Fraud  \n",
       "0      0  \n",
       "1      0  \n",
       "2      0  \n",
       "3      0  \n",
       "4      0  \n",
       "\n",
       "[5 rows x 21 columns]"
      ]
     },
     "execution_count": 3,
     "metadata": {},
     "output_type": "execute_result"
    }
   ],
   "source": [
    "df=pd.read_csv(\"C://Users//250228//Desktop//Codes//Python//Medical Fraud Detection//MedicalFraud1.csv\")\n",
    "df.head()"
   ]
  },
  {
   "cell_type": "code",
   "execution_count": 4,
   "id": "910d919e",
   "metadata": {},
   "outputs": [
    {
     "data": {
      "text/html": [
       "<div>\n",
       "<style scoped>\n",
       "    .dataframe tbody tr th:only-of-type {\n",
       "        vertical-align: middle;\n",
       "    }\n",
       "\n",
       "    .dataframe tbody tr th {\n",
       "        vertical-align: top;\n",
       "    }\n",
       "\n",
       "    .dataframe thead th {\n",
       "        text-align: right;\n",
       "    }\n",
       "</style>\n",
       "<table border=\"1\" class=\"dataframe\">\n",
       "  <thead>\n",
       "    <tr style=\"text-align: right;\">\n",
       "      <th></th>\n",
       "      <th>creditLimit</th>\n",
       "      <th>availableMoney</th>\n",
       "      <th>transactionDateTime</th>\n",
       "      <th>transactionAmount</th>\n",
       "      <th>merchantName</th>\n",
       "      <th>acqCountry</th>\n",
       "      <th>merchantCountryCode</th>\n",
       "      <th>posEntryMode</th>\n",
       "      <th>posConditionCode</th>\n",
       "      <th>merchantCategoryCode</th>\n",
       "      <th>...</th>\n",
       "      <th>accountOpenDate</th>\n",
       "      <th>dateOfLastAddressChange</th>\n",
       "      <th>cardCVV</th>\n",
       "      <th>enteredCVV</th>\n",
       "      <th>cardLast4Digits</th>\n",
       "      <th>transactionType</th>\n",
       "      <th>currentBalance</th>\n",
       "      <th>cardPresent</th>\n",
       "      <th>expirationDateKeyInMatch</th>\n",
       "      <th>Fraud</th>\n",
       "    </tr>\n",
       "  </thead>\n",
       "  <tbody>\n",
       "    <tr>\n",
       "      <th>0</th>\n",
       "      <td>5000</td>\n",
       "      <td>5000.0</td>\n",
       "      <td>130820161427</td>\n",
       "      <td>98.55</td>\n",
       "      <td>Uber</td>\n",
       "      <td>US</td>\n",
       "      <td>US</td>\n",
       "      <td>2.0</td>\n",
       "      <td>1.0</td>\n",
       "      <td>rideshare</td>\n",
       "      <td>...</td>\n",
       "      <td>14032015</td>\n",
       "      <td>14032015</td>\n",
       "      <td>414</td>\n",
       "      <td>414</td>\n",
       "      <td>1803</td>\n",
       "      <td>PURCHASE</td>\n",
       "      <td>0.0</td>\n",
       "      <td>0</td>\n",
       "      <td>0</td>\n",
       "      <td>0</td>\n",
       "    </tr>\n",
       "    <tr>\n",
       "      <th>1</th>\n",
       "      <td>5000</td>\n",
       "      <td>5000.0</td>\n",
       "      <td>111020160505</td>\n",
       "      <td>74.51</td>\n",
       "      <td>AMC #191138</td>\n",
       "      <td>US</td>\n",
       "      <td>US</td>\n",
       "      <td>9.0</td>\n",
       "      <td>1.0</td>\n",
       "      <td>entertainment</td>\n",
       "      <td>...</td>\n",
       "      <td>14032015</td>\n",
       "      <td>14032015</td>\n",
       "      <td>486</td>\n",
       "      <td>486</td>\n",
       "      <td>767</td>\n",
       "      <td>PURCHASE</td>\n",
       "      <td>0.0</td>\n",
       "      <td>1</td>\n",
       "      <td>0</td>\n",
       "      <td>0</td>\n",
       "    </tr>\n",
       "    <tr>\n",
       "      <th>2</th>\n",
       "      <td>5000</td>\n",
       "      <td>5000.0</td>\n",
       "      <td>081120160918</td>\n",
       "      <td>7.47</td>\n",
       "      <td>Play Store</td>\n",
       "      <td>US</td>\n",
       "      <td>US</td>\n",
       "      <td>9.0</td>\n",
       "      <td>1.0</td>\n",
       "      <td>mobileapps</td>\n",
       "      <td>...</td>\n",
       "      <td>14032015</td>\n",
       "      <td>14032015</td>\n",
       "      <td>486</td>\n",
       "      <td>486</td>\n",
       "      <td>767</td>\n",
       "      <td>PURCHASE</td>\n",
       "      <td>0.0</td>\n",
       "      <td>0</td>\n",
       "      <td>0</td>\n",
       "      <td>0</td>\n",
       "    </tr>\n",
       "    <tr>\n",
       "      <th>3</th>\n",
       "      <td>5000</td>\n",
       "      <td>5000.0</td>\n",
       "      <td>101220160214</td>\n",
       "      <td>7.47</td>\n",
       "      <td>Play Store</td>\n",
       "      <td>US</td>\n",
       "      <td>US</td>\n",
       "      <td>9.0</td>\n",
       "      <td>1.0</td>\n",
       "      <td>mobileapps</td>\n",
       "      <td>...</td>\n",
       "      <td>14032015</td>\n",
       "      <td>14032015</td>\n",
       "      <td>486</td>\n",
       "      <td>486</td>\n",
       "      <td>767</td>\n",
       "      <td>PURCHASE</td>\n",
       "      <td>0.0</td>\n",
       "      <td>0</td>\n",
       "      <td>0</td>\n",
       "      <td>0</td>\n",
       "    </tr>\n",
       "    <tr>\n",
       "      <th>4</th>\n",
       "      <td>5000</td>\n",
       "      <td>5000.0</td>\n",
       "      <td>240320162104</td>\n",
       "      <td>71.18</td>\n",
       "      <td>Tim Hortons #947751</td>\n",
       "      <td>US</td>\n",
       "      <td>US</td>\n",
       "      <td>2.0</td>\n",
       "      <td>1.0</td>\n",
       "      <td>fastfood</td>\n",
       "      <td>...</td>\n",
       "      <td>06082015</td>\n",
       "      <td>06082015</td>\n",
       "      <td>885</td>\n",
       "      <td>885</td>\n",
       "      <td>3143</td>\n",
       "      <td>PURCHASE</td>\n",
       "      <td>0.0</td>\n",
       "      <td>1</td>\n",
       "      <td>0</td>\n",
       "      <td>0</td>\n",
       "    </tr>\n",
       "  </tbody>\n",
       "</table>\n",
       "<p>5 rows × 21 columns</p>\n",
       "</div>"
      ],
      "text/plain": [
       "   creditLimit  availableMoney transactionDateTime  transactionAmount  \\\n",
       "0         5000          5000.0        130820161427              98.55   \n",
       "1         5000          5000.0        111020160505              74.51   \n",
       "2         5000          5000.0        081120160918               7.47   \n",
       "3         5000          5000.0        101220160214               7.47   \n",
       "4         5000          5000.0        240320162104              71.18   \n",
       "\n",
       "          merchantName acqCountry merchantCountryCode  posEntryMode  \\\n",
       "0                 Uber         US                  US           2.0   \n",
       "1          AMC #191138         US                  US           9.0   \n",
       "2           Play Store         US                  US           9.0   \n",
       "3           Play Store         US                  US           9.0   \n",
       "4  Tim Hortons #947751         US                  US           2.0   \n",
       "\n",
       "   posConditionCode merchantCategoryCode  ... accountOpenDate  \\\n",
       "0               1.0            rideshare  ...        14032015   \n",
       "1               1.0        entertainment  ...        14032015   \n",
       "2               1.0           mobileapps  ...        14032015   \n",
       "3               1.0           mobileapps  ...        14032015   \n",
       "4               1.0             fastfood  ...        06082015   \n",
       "\n",
       "  dateOfLastAddressChange cardCVV  enteredCVV  cardLast4Digits  \\\n",
       "0                14032015     414         414             1803   \n",
       "1                14032015     486         486              767   \n",
       "2                14032015     486         486              767   \n",
       "3                14032015     486         486              767   \n",
       "4                06082015     885         885             3143   \n",
       "\n",
       "   transactionType currentBalance  cardPresent  expirationDateKeyInMatch  \\\n",
       "0         PURCHASE            0.0            0                         0   \n",
       "1         PURCHASE            0.0            1                         0   \n",
       "2         PURCHASE            0.0            0                         0   \n",
       "3         PURCHASE            0.0            0                         0   \n",
       "4         PURCHASE            0.0            1                         0   \n",
       "\n",
       "   Fraud  \n",
       "0      0  \n",
       "1      0  \n",
       "2      0  \n",
       "3      0  \n",
       "4      0  \n",
       "\n",
       "[5 rows x 21 columns]"
      ]
     },
     "execution_count": 4,
     "metadata": {},
     "output_type": "execute_result"
    }
   ],
   "source": [
    "df['transactionDateTime'] = df['transactionDateTime'].str.replace('-', '').str.replace(':', '').str.replace(' ', '')\n",
    "df['currentExpDate'] = df['currentExpDate'].str.replace('-', '')\n",
    "df['accountOpenDate'] = df['accountOpenDate'].str.replace('-', '')\n",
    "df['dateOfLastAddressChange'] = df['dateOfLastAddressChange'].str.replace('-', '')\n",
    "df.head()"
   ]
  },
  {
   "cell_type": "code",
   "execution_count": 5,
   "id": "98671a82",
   "metadata": {},
   "outputs": [
    {
     "data": {
      "text/html": [
       "<div>\n",
       "<style scoped>\n",
       "    .dataframe tbody tr th:only-of-type {\n",
       "        vertical-align: middle;\n",
       "    }\n",
       "\n",
       "    .dataframe tbody tr th {\n",
       "        vertical-align: top;\n",
       "    }\n",
       "\n",
       "    .dataframe thead th {\n",
       "        text-align: right;\n",
       "    }\n",
       "</style>\n",
       "<table border=\"1\" class=\"dataframe\">\n",
       "  <thead>\n",
       "    <tr style=\"text-align: right;\">\n",
       "      <th></th>\n",
       "      <th>creditLimit</th>\n",
       "      <th>availableMoney</th>\n",
       "      <th>transactionDateTime</th>\n",
       "      <th>transactionAmount</th>\n",
       "      <th>merchantName</th>\n",
       "      <th>acqCountry</th>\n",
       "      <th>merchantCountryCode</th>\n",
       "      <th>posEntryMode</th>\n",
       "      <th>posConditionCode</th>\n",
       "      <th>merchantCategoryCode</th>\n",
       "      <th>...</th>\n",
       "      <th>accountOpenDate</th>\n",
       "      <th>dateOfLastAddressChange</th>\n",
       "      <th>cardCVV</th>\n",
       "      <th>enteredCVV</th>\n",
       "      <th>cardLast4Digits</th>\n",
       "      <th>transactionType</th>\n",
       "      <th>currentBalance</th>\n",
       "      <th>cardPresent</th>\n",
       "      <th>expirationDateKeyInMatch</th>\n",
       "      <th>Fraud</th>\n",
       "    </tr>\n",
       "  </thead>\n",
       "  <tbody>\n",
       "    <tr>\n",
       "      <th>0</th>\n",
       "      <td>0.095477</td>\n",
       "      <td>0.117744</td>\n",
       "      <td>130820161427</td>\n",
       "      <td>0.048992</td>\n",
       "      <td>Uber</td>\n",
       "      <td>US</td>\n",
       "      <td>US</td>\n",
       "      <td>2.0</td>\n",
       "      <td>1.0</td>\n",
       "      <td>rideshare</td>\n",
       "      <td>...</td>\n",
       "      <td>14032015</td>\n",
       "      <td>14032015</td>\n",
       "      <td>0.349666</td>\n",
       "      <td>0.414830</td>\n",
       "      <td>0.180336</td>\n",
       "      <td>PURCHASE</td>\n",
       "      <td>0.0</td>\n",
       "      <td>0</td>\n",
       "      <td>0</td>\n",
       "      <td>0</td>\n",
       "    </tr>\n",
       "    <tr>\n",
       "      <th>1</th>\n",
       "      <td>0.095477</td>\n",
       "      <td>0.117744</td>\n",
       "      <td>111020160505</td>\n",
       "      <td>0.037041</td>\n",
       "      <td>AMC #191138</td>\n",
       "      <td>US</td>\n",
       "      <td>US</td>\n",
       "      <td>9.0</td>\n",
       "      <td>1.0</td>\n",
       "      <td>entertainment</td>\n",
       "      <td>...</td>\n",
       "      <td>14032015</td>\n",
       "      <td>14032015</td>\n",
       "      <td>0.429844</td>\n",
       "      <td>0.486974</td>\n",
       "      <td>0.076715</td>\n",
       "      <td>PURCHASE</td>\n",
       "      <td>0.0</td>\n",
       "      <td>1</td>\n",
       "      <td>0</td>\n",
       "      <td>0</td>\n",
       "    </tr>\n",
       "    <tr>\n",
       "      <th>2</th>\n",
       "      <td>0.095477</td>\n",
       "      <td>0.117744</td>\n",
       "      <td>081120160918</td>\n",
       "      <td>0.003714</td>\n",
       "      <td>Play Store</td>\n",
       "      <td>US</td>\n",
       "      <td>US</td>\n",
       "      <td>9.0</td>\n",
       "      <td>1.0</td>\n",
       "      <td>mobileapps</td>\n",
       "      <td>...</td>\n",
       "      <td>14032015</td>\n",
       "      <td>14032015</td>\n",
       "      <td>0.429844</td>\n",
       "      <td>0.486974</td>\n",
       "      <td>0.076715</td>\n",
       "      <td>PURCHASE</td>\n",
       "      <td>0.0</td>\n",
       "      <td>0</td>\n",
       "      <td>0</td>\n",
       "      <td>0</td>\n",
       "    </tr>\n",
       "    <tr>\n",
       "      <th>3</th>\n",
       "      <td>0.095477</td>\n",
       "      <td>0.117744</td>\n",
       "      <td>101220160214</td>\n",
       "      <td>0.003714</td>\n",
       "      <td>Play Store</td>\n",
       "      <td>US</td>\n",
       "      <td>US</td>\n",
       "      <td>9.0</td>\n",
       "      <td>1.0</td>\n",
       "      <td>mobileapps</td>\n",
       "      <td>...</td>\n",
       "      <td>14032015</td>\n",
       "      <td>14032015</td>\n",
       "      <td>0.429844</td>\n",
       "      <td>0.486974</td>\n",
       "      <td>0.076715</td>\n",
       "      <td>PURCHASE</td>\n",
       "      <td>0.0</td>\n",
       "      <td>0</td>\n",
       "      <td>0</td>\n",
       "      <td>0</td>\n",
       "    </tr>\n",
       "    <tr>\n",
       "      <th>4</th>\n",
       "      <td>0.095477</td>\n",
       "      <td>0.117744</td>\n",
       "      <td>240320162104</td>\n",
       "      <td>0.035386</td>\n",
       "      <td>Tim Hortons #947751</td>\n",
       "      <td>US</td>\n",
       "      <td>US</td>\n",
       "      <td>2.0</td>\n",
       "      <td>1.0</td>\n",
       "      <td>fastfood</td>\n",
       "      <td>...</td>\n",
       "      <td>06082015</td>\n",
       "      <td>06082015</td>\n",
       "      <td>0.874165</td>\n",
       "      <td>0.886774</td>\n",
       "      <td>0.314363</td>\n",
       "      <td>PURCHASE</td>\n",
       "      <td>0.0</td>\n",
       "      <td>1</td>\n",
       "      <td>0</td>\n",
       "      <td>0</td>\n",
       "    </tr>\n",
       "  </tbody>\n",
       "</table>\n",
       "<p>5 rows × 21 columns</p>\n",
       "</div>"
      ],
      "text/plain": [
       "   creditLimit  availableMoney transactionDateTime  transactionAmount  \\\n",
       "0     0.095477        0.117744        130820161427           0.048992   \n",
       "1     0.095477        0.117744        111020160505           0.037041   \n",
       "2     0.095477        0.117744        081120160918           0.003714   \n",
       "3     0.095477        0.117744        101220160214           0.003714   \n",
       "4     0.095477        0.117744        240320162104           0.035386   \n",
       "\n",
       "          merchantName acqCountry merchantCountryCode  posEntryMode  \\\n",
       "0                 Uber         US                  US           2.0   \n",
       "1          AMC #191138         US                  US           9.0   \n",
       "2           Play Store         US                  US           9.0   \n",
       "3           Play Store         US                  US           9.0   \n",
       "4  Tim Hortons #947751         US                  US           2.0   \n",
       "\n",
       "   posConditionCode merchantCategoryCode  ... accountOpenDate  \\\n",
       "0               1.0            rideshare  ...        14032015   \n",
       "1               1.0        entertainment  ...        14032015   \n",
       "2               1.0           mobileapps  ...        14032015   \n",
       "3               1.0           mobileapps  ...        14032015   \n",
       "4               1.0             fastfood  ...        06082015   \n",
       "\n",
       "  dateOfLastAddressChange   cardCVV  enteredCVV  cardLast4Digits  \\\n",
       "0                14032015  0.349666    0.414830         0.180336   \n",
       "1                14032015  0.429844    0.486974         0.076715   \n",
       "2                14032015  0.429844    0.486974         0.076715   \n",
       "3                14032015  0.429844    0.486974         0.076715   \n",
       "4                06082015  0.874165    0.886774         0.314363   \n",
       "\n",
       "   transactionType currentBalance  cardPresent  expirationDateKeyInMatch  \\\n",
       "0         PURCHASE            0.0            0                         0   \n",
       "1         PURCHASE            0.0            1                         0   \n",
       "2         PURCHASE            0.0            0                         0   \n",
       "3         PURCHASE            0.0            0                         0   \n",
       "4         PURCHASE            0.0            1                         0   \n",
       "\n",
       "   Fraud  \n",
       "0      0  \n",
       "1      0  \n",
       "2      0  \n",
       "3      0  \n",
       "4      0  \n",
       "\n",
       "[5 rows x 21 columns]"
      ]
     },
     "execution_count": 5,
     "metadata": {},
     "output_type": "execute_result"
    }
   ],
   "source": [
    "scaler = MinMaxScaler()\n",
    "columns_to_scale = [\"creditLimit\", \"availableMoney\", \"transactionAmount\", \"cardCVV\", \"enteredCVV\", \"cardLast4Digits\", \"currentBalance\"]\n",
    "df[columns_to_scale] = scaler.fit_transform(df[columns_to_scale])\n",
    "df = df.dropna()\n",
    "df.head()"
   ]
  },
  {
   "cell_type": "code",
   "execution_count": 6,
   "id": "9246ad8f",
   "metadata": {},
   "outputs": [
    {
     "data": {
      "text/html": [
       "<div>\n",
       "<style scoped>\n",
       "    .dataframe tbody tr th:only-of-type {\n",
       "        vertical-align: middle;\n",
       "    }\n",
       "\n",
       "    .dataframe tbody tr th {\n",
       "        vertical-align: top;\n",
       "    }\n",
       "\n",
       "    .dataframe thead th {\n",
       "        text-align: right;\n",
       "    }\n",
       "</style>\n",
       "<table border=\"1\" class=\"dataframe\">\n",
       "  <thead>\n",
       "    <tr style=\"text-align: right;\">\n",
       "      <th></th>\n",
       "      <th>creditLimit</th>\n",
       "      <th>availableMoney</th>\n",
       "      <th>transactionDateTime</th>\n",
       "      <th>transactionAmount</th>\n",
       "      <th>merchantName</th>\n",
       "      <th>acqCountry</th>\n",
       "      <th>merchantCountryCode</th>\n",
       "      <th>posEntryMode</th>\n",
       "      <th>posConditionCode</th>\n",
       "      <th>merchantCategoryCode</th>\n",
       "      <th>...</th>\n",
       "      <th>accountOpenDate</th>\n",
       "      <th>dateOfLastAddressChange</th>\n",
       "      <th>cardCVV</th>\n",
       "      <th>enteredCVV</th>\n",
       "      <th>cardLast4Digits</th>\n",
       "      <th>transactionType</th>\n",
       "      <th>currentBalance</th>\n",
       "      <th>cardPresent</th>\n",
       "      <th>expirationDateKeyInMatch</th>\n",
       "      <th>Fraud</th>\n",
       "    </tr>\n",
       "  </thead>\n",
       "  <tbody>\n",
       "    <tr>\n",
       "      <th>0</th>\n",
       "      <td>0.095477</td>\n",
       "      <td>0.117744</td>\n",
       "      <td>130820161427</td>\n",
       "      <td>0.048992</td>\n",
       "      <td>2085</td>\n",
       "      <td>3</td>\n",
       "      <td>US</td>\n",
       "      <td>2.0</td>\n",
       "      <td>1.0</td>\n",
       "      <td>17</td>\n",
       "      <td>...</td>\n",
       "      <td>14032015</td>\n",
       "      <td>14032015</td>\n",
       "      <td>0.349666</td>\n",
       "      <td>0.414830</td>\n",
       "      <td>0.180336</td>\n",
       "      <td>1</td>\n",
       "      <td>0.0</td>\n",
       "      <td>0</td>\n",
       "      <td>0</td>\n",
       "      <td>0</td>\n",
       "    </tr>\n",
       "    <tr>\n",
       "      <th>1</th>\n",
       "      <td>0.095477</td>\n",
       "      <td>0.117744</td>\n",
       "      <td>111020160505</td>\n",
       "      <td>0.037041</td>\n",
       "      <td>27</td>\n",
       "      <td>3</td>\n",
       "      <td>US</td>\n",
       "      <td>9.0</td>\n",
       "      <td>1.0</td>\n",
       "      <td>3</td>\n",
       "      <td>...</td>\n",
       "      <td>14032015</td>\n",
       "      <td>14032015</td>\n",
       "      <td>0.429844</td>\n",
       "      <td>0.486974</td>\n",
       "      <td>0.076715</td>\n",
       "      <td>1</td>\n",
       "      <td>0.0</td>\n",
       "      <td>1</td>\n",
       "      <td>0</td>\n",
       "      <td>0</td>\n",
       "    </tr>\n",
       "    <tr>\n",
       "      <th>2</th>\n",
       "      <td>0.095477</td>\n",
       "      <td>0.117744</td>\n",
       "      <td>081120160918</td>\n",
       "      <td>0.003714</td>\n",
       "      <td>1304</td>\n",
       "      <td>3</td>\n",
       "      <td>US</td>\n",
       "      <td>9.0</td>\n",
       "      <td>1.0</td>\n",
       "      <td>12</td>\n",
       "      <td>...</td>\n",
       "      <td>14032015</td>\n",
       "      <td>14032015</td>\n",
       "      <td>0.429844</td>\n",
       "      <td>0.486974</td>\n",
       "      <td>0.076715</td>\n",
       "      <td>1</td>\n",
       "      <td>0.0</td>\n",
       "      <td>0</td>\n",
       "      <td>0</td>\n",
       "      <td>0</td>\n",
       "    </tr>\n",
       "    <tr>\n",
       "      <th>3</th>\n",
       "      <td>0.095477</td>\n",
       "      <td>0.117744</td>\n",
       "      <td>101220160214</td>\n",
       "      <td>0.003714</td>\n",
       "      <td>1304</td>\n",
       "      <td>3</td>\n",
       "      <td>US</td>\n",
       "      <td>9.0</td>\n",
       "      <td>1.0</td>\n",
       "      <td>12</td>\n",
       "      <td>...</td>\n",
       "      <td>14032015</td>\n",
       "      <td>14032015</td>\n",
       "      <td>0.429844</td>\n",
       "      <td>0.486974</td>\n",
       "      <td>0.076715</td>\n",
       "      <td>1</td>\n",
       "      <td>0.0</td>\n",
       "      <td>0</td>\n",
       "      <td>0</td>\n",
       "      <td>0</td>\n",
       "    </tr>\n",
       "    <tr>\n",
       "      <th>4</th>\n",
       "      <td>0.095477</td>\n",
       "      <td>0.117744</td>\n",
       "      <td>240320162104</td>\n",
       "      <td>0.035386</td>\n",
       "      <td>2083</td>\n",
       "      <td>3</td>\n",
       "      <td>US</td>\n",
       "      <td>2.0</td>\n",
       "      <td>1.0</td>\n",
       "      <td>4</td>\n",
       "      <td>...</td>\n",
       "      <td>06082015</td>\n",
       "      <td>06082015</td>\n",
       "      <td>0.874165</td>\n",
       "      <td>0.886774</td>\n",
       "      <td>0.314363</td>\n",
       "      <td>1</td>\n",
       "      <td>0.0</td>\n",
       "      <td>1</td>\n",
       "      <td>0</td>\n",
       "      <td>0</td>\n",
       "    </tr>\n",
       "  </tbody>\n",
       "</table>\n",
       "<p>5 rows × 21 columns</p>\n",
       "</div>"
      ],
      "text/plain": [
       "   creditLimit  availableMoney transactionDateTime  transactionAmount  \\\n",
       "0     0.095477        0.117744        130820161427           0.048992   \n",
       "1     0.095477        0.117744        111020160505           0.037041   \n",
       "2     0.095477        0.117744        081120160918           0.003714   \n",
       "3     0.095477        0.117744        101220160214           0.003714   \n",
       "4     0.095477        0.117744        240320162104           0.035386   \n",
       "\n",
       "   merchantName  acqCountry merchantCountryCode  posEntryMode  \\\n",
       "0          2085           3                  US           2.0   \n",
       "1            27           3                  US           9.0   \n",
       "2          1304           3                  US           9.0   \n",
       "3          1304           3                  US           9.0   \n",
       "4          2083           3                  US           2.0   \n",
       "\n",
       "   posConditionCode  merchantCategoryCode  ... accountOpenDate  \\\n",
       "0               1.0                    17  ...        14032015   \n",
       "1               1.0                     3  ...        14032015   \n",
       "2               1.0                    12  ...        14032015   \n",
       "3               1.0                    12  ...        14032015   \n",
       "4               1.0                     4  ...        06082015   \n",
       "\n",
       "  dateOfLastAddressChange   cardCVV  enteredCVV  cardLast4Digits  \\\n",
       "0                14032015  0.349666    0.414830         0.180336   \n",
       "1                14032015  0.429844    0.486974         0.076715   \n",
       "2                14032015  0.429844    0.486974         0.076715   \n",
       "3                14032015  0.429844    0.486974         0.076715   \n",
       "4                06082015  0.874165    0.886774         0.314363   \n",
       "\n",
       "   transactionType  currentBalance  cardPresent  expirationDateKeyInMatch  \\\n",
       "0                1             0.0            0                         0   \n",
       "1                1             0.0            1                         0   \n",
       "2                1             0.0            0                         0   \n",
       "3                1             0.0            0                         0   \n",
       "4                1             0.0            1                         0   \n",
       "\n",
       "   Fraud  \n",
       "0      0  \n",
       "1      0  \n",
       "2      0  \n",
       "3      0  \n",
       "4      0  \n",
       "\n",
       "[5 rows x 21 columns]"
      ]
     },
     "execution_count": 6,
     "metadata": {},
     "output_type": "execute_result"
    }
   ],
   "source": [
    "from sklearn.preprocessing import LabelEncoder\n",
    "le=LabelEncoder()\n",
    "\n",
    "df['merchantName']=le.fit_transform(df['merchantName'])\n",
    "df['transactionType']=le.fit_transform(df['transactionType'])\n",
    "df['merchantCategoryCode']=le.fit_transform(df['merchantCategoryCode'])\n",
    "df['acqCountry']=le.fit_transform(df['acqCountry'])\n",
    "\n",
    "df.head()"
   ]
  },
  {
   "cell_type": "code",
   "execution_count": 7,
   "id": "d4507a99",
   "metadata": {},
   "outputs": [],
   "source": [
    "X = df.drop([\"Fraud\",\"merchantCountryCode\"], axis=1)\n",
    "y = df[\"Fraud\"]"
   ]
  },
  {
   "cell_type": "code",
   "execution_count": 8,
   "id": "6e47ee24",
   "metadata": {},
   "outputs": [],
   "source": [
    "X_train, X_test, y_train, y_test = train_test_split(X, y, test_size=0.3, random_state=42)"
   ]
  },
  {
   "cell_type": "markdown",
   "id": "935e557e",
   "metadata": {},
   "source": [
    "## Logistic Regression"
   ]
  },
  {
   "cell_type": "code",
   "execution_count": 9,
   "id": "35d3e609",
   "metadata": {},
   "outputs": [],
   "source": [
    "from sklearn.linear_model import LogisticRegression"
   ]
  },
  {
   "cell_type": "code",
   "execution_count": 10,
   "id": "6f098610",
   "metadata": {},
   "outputs": [
    {
     "data": {
      "text/plain": [
       "LogisticRegression()"
      ]
     },
     "execution_count": 10,
     "metadata": {},
     "output_type": "execute_result"
    }
   ],
   "source": [
    "lr = LogisticRegression()\n",
    "lr.fit(X_train, y_train)"
   ]
  },
  {
   "cell_type": "code",
   "execution_count": 11,
   "id": "bc1ca10a",
   "metadata": {},
   "outputs": [],
   "source": [
    "y_pred = lr.predict(X_test)"
   ]
  },
  {
   "cell_type": "code",
   "execution_count": 12,
   "id": "6ee825da",
   "metadata": {},
   "outputs": [],
   "source": [
    "accuracy = accuracy_score(y_test, y_pred)\n",
    "confusion = confusion_matrix(y_test, y_pred)\n",
    "classification_report_str = classification_report(y_test, y_pred)"
   ]
  },
  {
   "cell_type": "code",
   "execution_count": 13,
   "id": "9d9eae92",
   "metadata": {},
   "outputs": [
    {
     "data": {
      "text/plain": [
       "0.9843992085870876"
      ]
     },
     "execution_count": 13,
     "metadata": {},
     "output_type": "execute_result"
    }
   ],
   "source": [
    "accuracy"
   ]
  },
  {
   "cell_type": "code",
   "execution_count": 14,
   "id": "5f00ca59",
   "metadata": {},
   "outputs": [
    {
     "data": {
      "text/plain": [
       "array([[229366,      0],\n",
       "       [  3635,      0]], dtype=int64)"
      ]
     },
     "execution_count": 14,
     "metadata": {},
     "output_type": "execute_result"
    }
   ],
   "source": [
    "confusion"
   ]
  },
  {
   "cell_type": "markdown",
   "id": "ae2055c0",
   "metadata": {},
   "source": [
    "## Decision Tree"
   ]
  },
  {
   "cell_type": "code",
   "execution_count": 15,
   "id": "639bb4d8",
   "metadata": {},
   "outputs": [],
   "source": [
    "from sklearn.tree import DecisionTreeClassifier"
   ]
  },
  {
   "cell_type": "code",
   "execution_count": 16,
   "id": "b5db966a",
   "metadata": {},
   "outputs": [
    {
     "data": {
      "text/plain": [
       "DecisionTreeClassifier()"
      ]
     },
     "execution_count": 16,
     "metadata": {},
     "output_type": "execute_result"
    }
   ],
   "source": [
    "decision_tree_model = DecisionTreeClassifier()\n",
    "decision_tree_model.fit(X_train, y_train)"
   ]
  },
  {
   "cell_type": "code",
   "execution_count": 17,
   "id": "29382e95",
   "metadata": {},
   "outputs": [],
   "source": [
    "y_pred_tree = decision_tree_model.predict(X_test)"
   ]
  },
  {
   "cell_type": "code",
   "execution_count": 18,
   "id": "3b2b6233",
   "metadata": {},
   "outputs": [],
   "source": [
    "accuracy_tree = accuracy_score(y_test, y_pred_tree)\n",
    "confusion_tree = confusion_matrix(y_test, y_pred_tree)"
   ]
  },
  {
   "cell_type": "code",
   "execution_count": 19,
   "id": "af2f4759",
   "metadata": {},
   "outputs": [
    {
     "data": {
      "text/plain": [
       "0.9701889691460551"
      ]
     },
     "execution_count": 19,
     "metadata": {},
     "output_type": "execute_result"
    }
   ],
   "source": [
    "accuracy_tree"
   ]
  },
  {
   "cell_type": "code",
   "execution_count": 20,
   "id": "2db45ae2",
   "metadata": {},
   "outputs": [
    {
     "data": {
      "text/plain": [
       "array([[225436,   3930],\n",
       "       [  3016,    619]], dtype=int64)"
      ]
     },
     "execution_count": 20,
     "metadata": {},
     "output_type": "execute_result"
    }
   ],
   "source": [
    "confusion_tree"
   ]
  },
  {
   "cell_type": "markdown",
   "id": "b10c5fdf",
   "metadata": {},
   "source": [
    "## Random Forest Classification"
   ]
  },
  {
   "cell_type": "code",
   "execution_count": 21,
   "id": "aeee2776",
   "metadata": {},
   "outputs": [],
   "source": [
    "from sklearn.ensemble import RandomForestClassifier"
   ]
  },
  {
   "cell_type": "code",
   "execution_count": 22,
   "id": "935bb88b",
   "metadata": {},
   "outputs": [
    {
     "data": {
      "text/plain": [
       "RandomForestClassifier(n_estimators=20)"
      ]
     },
     "execution_count": 22,
     "metadata": {},
     "output_type": "execute_result"
    }
   ],
   "source": [
    "random_forest_model = RandomForestClassifier(n_estimators=20)\n",
    "random_forest_model.fit(X_train, y_train)"
   ]
  },
  {
   "cell_type": "code",
   "execution_count": 23,
   "id": "20ddf44b",
   "metadata": {},
   "outputs": [],
   "source": [
    "y_pred_forest = random_forest_model.predict(X_test)"
   ]
  },
  {
   "cell_type": "code",
   "execution_count": 24,
   "id": "b1ea9ba2",
   "metadata": {},
   "outputs": [],
   "source": [
    "accuracy_forest = accuracy_score(y_test, y_pred_forest)\n",
    "confusion_forest = confusion_matrix(y_test, y_pred_forest)"
   ]
  },
  {
   "cell_type": "code",
   "execution_count": 25,
   "id": "1d80ef3b",
   "metadata": {},
   "outputs": [
    {
     "data": {
      "text/plain": [
       "0.9857039240174935"
      ]
     },
     "execution_count": 25,
     "metadata": {},
     "output_type": "execute_result"
    }
   ],
   "source": [
    "accuracy_forest"
   ]
  },
  {
   "cell_type": "code",
   "execution_count": 26,
   "id": "aa8da9f4",
   "metadata": {},
   "outputs": [
    {
     "data": {
      "text/plain": [
       "array([[229357,      9],\n",
       "       [  3322,    313]], dtype=int64)"
      ]
     },
     "execution_count": 26,
     "metadata": {},
     "output_type": "execute_result"
    }
   ],
   "source": [
    "confusion_forest"
   ]
  },
  {
   "cell_type": "markdown",
   "id": "34e5407a",
   "metadata": {},
   "source": [
    "## Gradient Boosting"
   ]
  },
  {
   "cell_type": "code",
   "execution_count": 27,
   "id": "03ad62ac",
   "metadata": {},
   "outputs": [],
   "source": [
    "from sklearn.ensemble import GradientBoostingClassifier"
   ]
  },
  {
   "cell_type": "code",
   "execution_count": 28,
   "id": "6b3e1cd5",
   "metadata": {},
   "outputs": [
    {
     "data": {
      "text/plain": [
       "GradientBoostingClassifier(n_estimators=20)"
      ]
     },
     "execution_count": 28,
     "metadata": {},
     "output_type": "execute_result"
    }
   ],
   "source": [
    "gradient_boosting_model = GradientBoostingClassifier(n_estimators=20, learning_rate=0.1)\n",
    "gradient_boosting_model.fit(X_train, y_train)"
   ]
  },
  {
   "cell_type": "code",
   "execution_count": 29,
   "id": "b25c48a6",
   "metadata": {},
   "outputs": [],
   "source": [
    "y_pred_gradient = gradient_boosting_model.predict(X_test)"
   ]
  },
  {
   "cell_type": "code",
   "execution_count": 30,
   "id": "3ff40a86",
   "metadata": {},
   "outputs": [],
   "source": [
    "accuracy_gradient = accuracy_score(y_test, y_pred_gradient)\n",
    "confusion_gradient = confusion_matrix(y_test, y_pred_gradient)"
   ]
  },
  {
   "cell_type": "code",
   "execution_count": 31,
   "id": "bb99f15e",
   "metadata": {},
   "outputs": [
    {
     "data": {
      "text/plain": [
       "0.9843992085870876"
      ]
     },
     "execution_count": 31,
     "metadata": {},
     "output_type": "execute_result"
    }
   ],
   "source": [
    "accuracy_gradient"
   ]
  },
  {
   "cell_type": "code",
   "execution_count": 32,
   "id": "0a5d562f",
   "metadata": {},
   "outputs": [
    {
     "data": {
      "text/plain": [
       "array([[229366,      0],\n",
       "       [  3635,      0]], dtype=int64)"
      ]
     },
     "execution_count": 32,
     "metadata": {},
     "output_type": "execute_result"
    }
   ],
   "source": [
    "confusion_gradient"
   ]
  },
  {
   "cell_type": "markdown",
   "id": "6658b303",
   "metadata": {},
   "source": [
    "## Naive Bayes"
   ]
  },
  {
   "cell_type": "code",
   "execution_count": 33,
   "id": "a7af5024",
   "metadata": {},
   "outputs": [],
   "source": [
    "from sklearn.naive_bayes import GaussianNB"
   ]
  },
  {
   "cell_type": "code",
   "execution_count": 34,
   "id": "50252b06",
   "metadata": {},
   "outputs": [
    {
     "data": {
      "text/plain": [
       "GaussianNB()"
      ]
     },
     "execution_count": 34,
     "metadata": {},
     "output_type": "execute_result"
    }
   ],
   "source": [
    "naive_bayes_model = GaussianNB()\n",
    "naive_bayes_model.fit(X_train, y_train)"
   ]
  },
  {
   "cell_type": "code",
   "execution_count": 35,
   "id": "14efd5b6",
   "metadata": {},
   "outputs": [],
   "source": [
    "y_pred_naive_bayes = naive_bayes_model.predict(X_test)"
   ]
  },
  {
   "cell_type": "code",
   "execution_count": 36,
   "id": "aa2dbbdc",
   "metadata": {},
   "outputs": [],
   "source": [
    "accuracy_naive_bayes = accuracy_score(y_test, y_pred_naive_bayes)\n",
    "confusion_naive_bayes = confusion_matrix(y_test, y_pred_naive_bayes)"
   ]
  },
  {
   "cell_type": "code",
   "execution_count": 37,
   "id": "0b783e8a",
   "metadata": {},
   "outputs": [
    {
     "data": {
      "text/plain": [
       "0.9843992085870876"
      ]
     },
     "execution_count": 37,
     "metadata": {},
     "output_type": "execute_result"
    }
   ],
   "source": [
    "accuracy_naive_bayes"
   ]
  },
  {
   "cell_type": "code",
   "execution_count": 38,
   "id": "68c1427e",
   "metadata": {},
   "outputs": [
    {
     "data": {
      "text/plain": [
       "array([[229366,      0],\n",
       "       [  3635,      0]], dtype=int64)"
      ]
     },
     "execution_count": 38,
     "metadata": {},
     "output_type": "execute_result"
    }
   ],
   "source": [
    "confusion_naive_bayes"
   ]
  }
 ],
 "metadata": {
  "kernelspec": {
   "display_name": "Python 3 (ipykernel)",
   "language": "python",
   "name": "python3"
  },
  "language_info": {
   "codemirror_mode": {
    "name": "ipython",
    "version": 3
   },
   "file_extension": ".py",
   "mimetype": "text/x-python",
   "name": "python",
   "nbconvert_exporter": "python",
   "pygments_lexer": "ipython3",
   "version": "3.9.13"
  }
 },
 "nbformat": 4,
 "nbformat_minor": 5
}
